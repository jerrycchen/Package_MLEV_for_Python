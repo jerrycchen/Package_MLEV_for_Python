{
 "cells": [
  {
   "cell_type": "markdown",
   "metadata": {},
   "source": [
    "# Unit Test for the MLEV Python Package Project\n",
    "## Part I: Simulate two input datasets\n",
    "The following linear model is assumed:<br>\n",
    "$y = X \\beta + \\epsilon$ <br>\n",
    "$\\epsilon$ is from $i.i.d.$ Nomral $(0,\\sigma^2)$<br>\n",
    "$ X $ is $n$ by $p$ design matrix<br>\n",
    "$\\beta$ is $p$ by $1$ parameter vector\n",
    "- **Dataset1:** low dimensional dataset ($n=100, p=10$)\n",
    "- **Dataset2:** high dimensional dataset ($n=1000, p=10000$)"
   ]
  },
  {
   "cell_type": "code",
   "execution_count": 34,
   "metadata": {
    "collapsed": false
   },
   "outputs": [
    {
     "name": "stdout",
     "output_type": "stream",
     "text": [
      "True variance of error1 is 11.8709670798\n",
      "True variance of error2 is 10.2617221198\n"
     ]
    }
   ],
   "source": [
    "import numpy as np\n",
    "import pandas as pd\n",
    "\n",
    "# dataset1 (n=100 >> p=10)\n",
    "X1 = np.random.rand(100, 10)\n",
    "beta1 = np.random.normal(loc=0, scale=(10/10)**0.5, size=10)\n",
    "error1 = np.random.normal(loc=0, scale=10**0.5, size=100)\n",
    "y1 = np.dot(X1, beta1) + error1\n",
    "dataset1 = {'y': y1, 'X': X1}\n",
    "print('True variance of error1 is ' + str(np.var(error1)))\n",
    "\n",
    "# dataset2 (n=1000 << p=10000)\n",
    "X2 = pd.DataFrame(np.random.randn(1000, 10000))\n",
    "beta2 = np.random.normal(loc=0, scale=(10/1e4)**0.5, size=int(1e4))\n",
    "error2 = np.random.normal(loc=0, scale=10**0.5, size=1000)\n",
    "y2 = pd.Series(np.dot(X2, beta2) + error2)\n",
    "dataset2 = {'y': y2, 'X': X2}\n",
    "print('True variance of error2 is ' + str(np.var(error2)))"
   ]
  },
  {
   "cell_type": "code",
   "execution_count": null,
   "metadata": {
    "collapsed": true
   },
   "outputs": [],
   "source": []
  },
  {
   "cell_type": "markdown",
   "metadata": {},
   "source": [
    "## Part II: Compute variance estimates using the MLEV package\n",
    "### Step 1: Load the MLEV package"
   ]
  },
  {
   "cell_type": "code",
   "execution_count": 25,
   "metadata": {
    "collapsed": false
   },
   "outputs": [],
   "source": [
    "# Required python packages\n",
    "import numpy as np\n",
    "import pandas as pd\n",
    "import scipy.optimize as optimx\n",
    "\n",
    "class MLEV:\n",
    "    \"\"\"\n",
    "    This package is used to compute variance estimates based on maximum likelihood estimates\n",
    "    \"\"\"\n",
    "\n",
    "    def __init__(self, X=None, y=None):\n",
    "        \"\"\"\n",
    "        __init__ function for Class MLEV\n",
    "        :param X: design matrix (allowed data type: numpy array)\n",
    "        :param y: response variable (allowed data type: numpy array)\n",
    "        \"\"\"\n",
    "        if not ((isinstance(X, np.ndarray) or isinstance(X, pd.DataFrame) or isinstance(X, pd.Series)) and (isinstance(y, np.ndarray) or isinstance(y, pd.Series))):\n",
    "            raise TypeError('Design matrix (X) must be numpy.ndarray, pandas.Dataframe or pandas.Series and response variable (y) must be numpy.ndarray or pandas.Series')\n",
    "        elif not (X.ndim==1 or X.ndim==2):\n",
    "            raise TypeError('The dimension of design matrix (X) must be 1 or 2')\n",
    "        elif not (y.ndim==1 or (y.ndim==2 and y.shape[1]==1)):\n",
    "            raise TypeError('The dimension of response variable (y) is not 1')\n",
    "        elif X.shape[0] != y.shape[0]:\n",
    "            raise TypeError('The number of rows in design matrix (X.shape[0]) does not match with y.shape[0]')\n",
    "        else:\n",
    "            self.X = np.asarray(X, dtype=np.float64)\n",
    "            self.y = np.asarray(y, dtype=np.float64)\n",
    "            if np.sum(np.isnan(self.y)) != 0:\n",
    "                raise ValueError('Missing values are not allowed in response variable (y)')\n",
    "            elif np.sum(np.isnan(self.X)) != 0:\n",
    "                raise ValueError('Missing values are not allowed in design matrix (X)')\n",
    "            elif np.linalg.matrix_rank(self.X.T) < np.min(self.X.shape):\n",
    "                raise ValueError('X_Transpose is rank deficient, remove linearly dependent rows from design matrix (X)')\n",
    "            else:\n",
    "                self.n = float(self.X.shape[0])\n",
    "                self.p = float(self.X.shape[1])\n",
    "                self.theta2_init = float(1)\n",
    "                print('Initiation is now complete')\n",
    "\n",
    "    def describe(self):\n",
    "        print('The dimension of design matrix is (' + str(int(self.n)) + ', ' + str(int(self.p)) + ')')\n",
    "        return(self)\n",
    "\n",
    "    def eigen(self):\n",
    "        self.XXt = np.dot(self.X, self.X.T)\n",
    "        self.lbd, self.vec = np.linalg.eigh(self.XXt)\n",
    "        self.yTilde = np.dot(self.vec.T, self.y)\n",
    "        self.yTildeSq = self.yTilde**2\n",
    "        return(self)\n",
    "\n",
    "    def mlevObj(self, theta2):\n",
    "        out1 = np.log(np.sum(self.yTildeSq/(theta2/self.p*self.lbd+1.0))) + 1.0/self.n*np.sum(np.log(theta2/self.p*self.lbd+1.0))\n",
    "        return(out1)\n",
    "\n",
    "    def getTheta2(self, theta2_init=5.0):\n",
    "        self.theta2_est = optimx.fmin_l_bfgs_b(func=self.mlevObj, x0=np.array([theta2_init]), bounds=[(0, None)], approx_grad=True)\n",
    "        self.theta2_hat = self.theta2_est[0]\n",
    "        return(self)\n",
    "\n",
    "    def getTheta1(self):\n",
    "        self.theta1_hat = (1.0/self.n) * np.sum(self.yTildeSq/(self.theta2_hat/self.p*self.lbd+1.0))\n",
    "        return(self.theta1_hat)\n",
    "\n",
    "    def getMLEV(self):\n",
    "        self.mlev_hat = self.eigen().getTheta2().getTheta1()\n",
    "        return(self.mlev_hat)"
   ]
  },
  {
   "cell_type": "markdown",
   "metadata": {},
   "source": [
    "### Step 2: Compute the MLEV variance estimates\n",
    "- Dataset1: low dimension, numpy.ndarray\n",
    "- Dataset2: high dimension, pandas.Series/DataFrame"
   ]
  },
  {
   "cell_type": "code",
   "execution_count": 37,
   "metadata": {
    "collapsed": false
   },
   "outputs": [
    {
     "name": "stdout",
     "output_type": "stream",
     "text": [
      "(<type 'numpy.ndarray'>, <type 'numpy.ndarray'>)\n",
      "Initiation is now complete\n",
      "11.5915248647\n",
      "(<class 'pandas.core.frame.DataFrame'>, <class 'pandas.core.series.Series'>)\n",
      "Initiation is now complete\n",
      "7.68870085669\n"
     ]
    }
   ],
   "source": [
    "# Test-1 regular numpy.ndarray datatype input, low dimension\n",
    "my_X = dataset1['X']\n",
    "my_y = dataset1['y']\n",
    "print(type(my_X), type(my_y))\n",
    "my_Data = MLEV(my_X, my_y)\n",
    "print(my_Data.getMLEV())\n",
    "\n",
    "# Test-2 regular pandas.DataFrame and pandas.Series datatype inputs, high dimension\n",
    "my_X = dataset2['X']\n",
    "my_y = dataset2['y']\n",
    "print(type(my_X), type(my_y))\n",
    "my_Data = MLEV(my_X, my_y)\n",
    "print(my_Data.getMLEV())"
   ]
  },
  {
   "cell_type": "markdown",
   "metadata": {},
   "source": [
    "## Part III: return errors for invalid input datasets\n",
    "The MLEV class only takes the following datatypes:\n",
    "- Design matrix, X: *numpy.ndarray, pandas.DataFrame* or *pandas.Series*;\n",
    "- Response, y: *numpy.ndarray* or *pandas.Series*;<br>\n",
    "\n",
    "In addition, MLEV will generate errors if:\n",
    "- The design matrix, X, has more than two dimensions;\n",
    "- The response, y, has more than one dimensions;\n",
    "- The shapes of X and y do not match;\n",
    "- Design matrix, X, is rank-deficient;<br>"
   ]
  },
  {
   "cell_type": "code",
   "execution_count": 38,
   "metadata": {
    "collapsed": false
   },
   "outputs": [
    {
     "name": "stdout",
     "output_type": "stream",
     "text": [
      "(<type 'dict'>, <class 'pandas.core.frame.DataFrame'>)\n"
     ]
    },
    {
     "ename": "TypeError",
     "evalue": "Design matrix (X) must be numpy.ndarray, pandas.Dataframe or pandas.Series and response variable (y) must be numpy.ndarray or pandas.Series",
     "output_type": "error",
     "traceback": [
      "\u001b[0;31m---------------------------------------------------------------------------\u001b[0m",
      "\u001b[0;31mTypeError\u001b[0m                                 Traceback (most recent call last)",
      "\u001b[0;32m<ipython-input-38-98ae19bb3073>\u001b[0m in \u001b[0;36m<module>\u001b[0;34m()\u001b[0m\n\u001b[1;32m      3\u001b[0m \u001b[0mwrong_y\u001b[0m \u001b[0;34m=\u001b[0m \u001b[0mpd\u001b[0m\u001b[0;34m.\u001b[0m\u001b[0mDataFrame\u001b[0m\u001b[0;34m(\u001b[0m\u001b[0;34m[\u001b[0m\u001b[0;36m1\u001b[0m\u001b[0;34m,\u001b[0m\u001b[0;36m2\u001b[0m\u001b[0;34m,\u001b[0m\u001b[0;36m3\u001b[0m\u001b[0;34m,\u001b[0m\u001b[0;36m4\u001b[0m\u001b[0;34m]\u001b[0m\u001b[0;34m)\u001b[0m\u001b[0;34m\u001b[0m\u001b[0m\n\u001b[1;32m      4\u001b[0m \u001b[0;32mprint\u001b[0m\u001b[0;34m(\u001b[0m\u001b[0mtype\u001b[0m\u001b[0;34m(\u001b[0m\u001b[0mwrong_X\u001b[0m\u001b[0;34m)\u001b[0m\u001b[0;34m,\u001b[0m \u001b[0mtype\u001b[0m\u001b[0;34m(\u001b[0m\u001b[0mwrong_y\u001b[0m\u001b[0;34m)\u001b[0m\u001b[0;34m)\u001b[0m \u001b[0;31m# (<type 'dict'>, <class 'pandas.core.frame.DataFrame'>)\u001b[0m\u001b[0;34m\u001b[0m\u001b[0m\n\u001b[0;32m----> 5\u001b[0;31m \u001b[0mwrong_Data\u001b[0m \u001b[0;34m=\u001b[0m \u001b[0mMLEV\u001b[0m\u001b[0;34m(\u001b[0m\u001b[0mwrong_X\u001b[0m\u001b[0;34m,\u001b[0m \u001b[0mwrong_y\u001b[0m\u001b[0;34m)\u001b[0m\u001b[0;34m\u001b[0m\u001b[0m\n\u001b[0m",
      "\u001b[0;32m<ipython-input-25-ed93861d3299>\u001b[0m in \u001b[0;36m__init__\u001b[0;34m(self, X, y)\u001b[0m\n\u001b[1;32m     16\u001b[0m         \"\"\"\n\u001b[1;32m     17\u001b[0m         \u001b[0;32mif\u001b[0m \u001b[0;32mnot\u001b[0m \u001b[0;34m(\u001b[0m\u001b[0;34m(\u001b[0m\u001b[0misinstance\u001b[0m\u001b[0;34m(\u001b[0m\u001b[0mX\u001b[0m\u001b[0;34m,\u001b[0m \u001b[0mnp\u001b[0m\u001b[0;34m.\u001b[0m\u001b[0mndarray\u001b[0m\u001b[0;34m)\u001b[0m \u001b[0;32mor\u001b[0m \u001b[0misinstance\u001b[0m\u001b[0;34m(\u001b[0m\u001b[0mX\u001b[0m\u001b[0;34m,\u001b[0m \u001b[0mpd\u001b[0m\u001b[0;34m.\u001b[0m\u001b[0mDataFrame\u001b[0m\u001b[0;34m)\u001b[0m \u001b[0;32mor\u001b[0m \u001b[0misinstance\u001b[0m\u001b[0;34m(\u001b[0m\u001b[0mX\u001b[0m\u001b[0;34m,\u001b[0m \u001b[0mpd\u001b[0m\u001b[0;34m.\u001b[0m\u001b[0mSeries\u001b[0m\u001b[0;34m)\u001b[0m\u001b[0;34m)\u001b[0m \u001b[0;32mand\u001b[0m \u001b[0;34m(\u001b[0m\u001b[0misinstance\u001b[0m\u001b[0;34m(\u001b[0m\u001b[0my\u001b[0m\u001b[0;34m,\u001b[0m \u001b[0mnp\u001b[0m\u001b[0;34m.\u001b[0m\u001b[0mndarray\u001b[0m\u001b[0;34m)\u001b[0m \u001b[0;32mor\u001b[0m \u001b[0misinstance\u001b[0m\u001b[0;34m(\u001b[0m\u001b[0my\u001b[0m\u001b[0;34m,\u001b[0m \u001b[0mpd\u001b[0m\u001b[0;34m.\u001b[0m\u001b[0mSeries\u001b[0m\u001b[0;34m)\u001b[0m\u001b[0;34m)\u001b[0m\u001b[0;34m)\u001b[0m\u001b[0;34m:\u001b[0m\u001b[0;34m\u001b[0m\u001b[0m\n\u001b[0;32m---> 18\u001b[0;31m             \u001b[0;32mraise\u001b[0m \u001b[0mTypeError\u001b[0m\u001b[0;34m(\u001b[0m\u001b[0;34m'Design matrix (X) must be numpy.ndarray, pandas.Dataframe or pandas.Series and response variable (y) must be numpy.ndarray or pandas.Series'\u001b[0m\u001b[0;34m)\u001b[0m\u001b[0;34m\u001b[0m\u001b[0m\n\u001b[0m\u001b[1;32m     19\u001b[0m         \u001b[0;32melif\u001b[0m \u001b[0;32mnot\u001b[0m \u001b[0;34m(\u001b[0m\u001b[0mX\u001b[0m\u001b[0;34m.\u001b[0m\u001b[0mndim\u001b[0m\u001b[0;34m==\u001b[0m\u001b[0;36m1\u001b[0m \u001b[0;32mor\u001b[0m \u001b[0mX\u001b[0m\u001b[0;34m.\u001b[0m\u001b[0mndim\u001b[0m\u001b[0;34m==\u001b[0m\u001b[0;36m2\u001b[0m\u001b[0;34m)\u001b[0m\u001b[0;34m:\u001b[0m\u001b[0;34m\u001b[0m\u001b[0m\n\u001b[1;32m     20\u001b[0m             \u001b[0;32mraise\u001b[0m \u001b[0mTypeError\u001b[0m\u001b[0;34m(\u001b[0m\u001b[0;34m'The dimension of design matrix (X) must be 1 or 2'\u001b[0m\u001b[0;34m)\u001b[0m\u001b[0;34m\u001b[0m\u001b[0m\n",
      "\u001b[0;31mTypeError\u001b[0m: Design matrix (X) must be numpy.ndarray, pandas.Dataframe or pandas.Series and response variable (y) must be numpy.ndarray or pandas.Series"
     ]
    }
   ],
   "source": [
    "# TypeError: Design matrix (X) must be numpy.ndarray, pandas.Dataframe or pandas.Series and response variable (y) must be numpy.ndarray or pandas.Series\n",
    "wrong_X = {'x1': [1,2,3,4], 'x2': [4,3,2,1]}\n",
    "wrong_y = pd.DataFrame([1,2,3,4])\n",
    "print(type(wrong_X), type(wrong_y)) # (<type 'dict'>, <class 'pandas.core.frame.DataFrame'>)\n",
    "wrong_Data = MLEV(wrong_X, wrong_y)"
   ]
  },
  {
   "cell_type": "code",
   "execution_count": 39,
   "metadata": {
    "collapsed": false
   },
   "outputs": [
    {
     "ename": "ValueError",
     "evalue": "Missing values are not allowed in design matrix (X)",
     "output_type": "error",
     "traceback": [
      "\u001b[0;31m---------------------------------------------------------------------------\u001b[0m",
      "\u001b[0;31mValueError\u001b[0m                                Traceback (most recent call last)",
      "\u001b[0;32m<ipython-input-39-16927588199f>\u001b[0m in \u001b[0;36m<module>\u001b[0;34m()\u001b[0m\n\u001b[1;32m      3\u001b[0m \u001b[0mwrong_X\u001b[0m\u001b[0;34m.\u001b[0m\u001b[0miloc\u001b[0m\u001b[0;34m[\u001b[0m\u001b[0;36m0\u001b[0m\u001b[0;34m,\u001b[0m\u001b[0;36m0\u001b[0m\u001b[0;34m]\u001b[0m \u001b[0;34m=\u001b[0m \u001b[0mnp\u001b[0m\u001b[0;34m.\u001b[0m\u001b[0mNaN\u001b[0m\u001b[0;34m\u001b[0m\u001b[0m\n\u001b[1;32m      4\u001b[0m \u001b[0mmy_y\u001b[0m \u001b[0;34m=\u001b[0m \u001b[0mdataset1\u001b[0m\u001b[0;34m[\u001b[0m\u001b[0;34m'y'\u001b[0m\u001b[0;34m]\u001b[0m\u001b[0;34m\u001b[0m\u001b[0m\n\u001b[0;32m----> 5\u001b[0;31m \u001b[0mwrong_Data\u001b[0m \u001b[0;34m=\u001b[0m \u001b[0mMLEV\u001b[0m\u001b[0;34m(\u001b[0m\u001b[0mwrong_X\u001b[0m\u001b[0;34m,\u001b[0m \u001b[0mmy_y\u001b[0m\u001b[0;34m)\u001b[0m\u001b[0;34m\u001b[0m\u001b[0m\n\u001b[0m",
      "\u001b[0;32m<ipython-input-25-ed93861d3299>\u001b[0m in \u001b[0;36m__init__\u001b[0;34m(self, X, y)\u001b[0m\n\u001b[1;32m     29\u001b[0m                 \u001b[0;32mraise\u001b[0m \u001b[0mValueError\u001b[0m\u001b[0;34m(\u001b[0m\u001b[0;34m'Missing values are not allowed in response variable (y)'\u001b[0m\u001b[0;34m)\u001b[0m\u001b[0;34m\u001b[0m\u001b[0m\n\u001b[1;32m     30\u001b[0m             \u001b[0;32melif\u001b[0m \u001b[0mnp\u001b[0m\u001b[0;34m.\u001b[0m\u001b[0msum\u001b[0m\u001b[0;34m(\u001b[0m\u001b[0mnp\u001b[0m\u001b[0;34m.\u001b[0m\u001b[0misnan\u001b[0m\u001b[0;34m(\u001b[0m\u001b[0mself\u001b[0m\u001b[0;34m.\u001b[0m\u001b[0mX\u001b[0m\u001b[0;34m)\u001b[0m\u001b[0;34m)\u001b[0m \u001b[0;34m!=\u001b[0m \u001b[0;36m0\u001b[0m\u001b[0;34m:\u001b[0m\u001b[0;34m\u001b[0m\u001b[0m\n\u001b[0;32m---> 31\u001b[0;31m                 \u001b[0;32mraise\u001b[0m \u001b[0mValueError\u001b[0m\u001b[0;34m(\u001b[0m\u001b[0;34m'Missing values are not allowed in design matrix (X)'\u001b[0m\u001b[0;34m)\u001b[0m\u001b[0;34m\u001b[0m\u001b[0m\n\u001b[0m\u001b[1;32m     32\u001b[0m             \u001b[0;32melif\u001b[0m \u001b[0mnp\u001b[0m\u001b[0;34m.\u001b[0m\u001b[0mlinalg\u001b[0m\u001b[0;34m.\u001b[0m\u001b[0mmatrix_rank\u001b[0m\u001b[0;34m(\u001b[0m\u001b[0mself\u001b[0m\u001b[0;34m.\u001b[0m\u001b[0mX\u001b[0m\u001b[0;34m.\u001b[0m\u001b[0mT\u001b[0m\u001b[0;34m)\u001b[0m \u001b[0;34m<\u001b[0m \u001b[0mnp\u001b[0m\u001b[0;34m.\u001b[0m\u001b[0mmin\u001b[0m\u001b[0;34m(\u001b[0m\u001b[0mself\u001b[0m\u001b[0;34m.\u001b[0m\u001b[0mX\u001b[0m\u001b[0;34m.\u001b[0m\u001b[0mshape\u001b[0m\u001b[0;34m)\u001b[0m\u001b[0;34m:\u001b[0m\u001b[0;34m\u001b[0m\u001b[0m\n\u001b[1;32m     33\u001b[0m                 \u001b[0;32mraise\u001b[0m \u001b[0mValueError\u001b[0m\u001b[0;34m(\u001b[0m\u001b[0;34m'X_Transpose is rank deficient, remove linearly dependent rows from design matrix (X)'\u001b[0m\u001b[0;34m)\u001b[0m\u001b[0;34m\u001b[0m\u001b[0m\n",
      "\u001b[0;31mValueError\u001b[0m: Missing values are not allowed in design matrix (X)"
     ]
    }
   ],
   "source": [
    "# ValueError: Missing values are not allowed in design matrix (X)\n",
    "wrong_X = pd.DataFrame(dataset1['X'])\n",
    "wrong_X.iloc[0,0] = np.NaN\n",
    "my_y = dataset1['y']\n",
    "wrong_Data = MLEV(wrong_X, my_y)"
   ]
  },
  {
   "cell_type": "code",
   "execution_count": 40,
   "metadata": {
    "collapsed": false
   },
   "outputs": [
    {
     "ename": "ValueError",
     "evalue": "X_Transpose is rank deficient, remove linearly dependent rows from design matrix (X)",
     "output_type": "error",
     "traceback": [
      "\u001b[0;31m---------------------------------------------------------------------------\u001b[0m",
      "\u001b[0;31mValueError\u001b[0m                                Traceback (most recent call last)",
      "\u001b[0;32m<ipython-input-40-aa99792355a7>\u001b[0m in \u001b[0;36m<module>\u001b[0;34m()\u001b[0m\n\u001b[1;32m      2\u001b[0m \u001b[0mwrong_X\u001b[0m \u001b[0;34m=\u001b[0m \u001b[0mnp\u001b[0m\u001b[0;34m.\u001b[0m\u001b[0marray\u001b[0m\u001b[0;34m(\u001b[0m\u001b[0;34m[\u001b[0m\u001b[0;34m[\u001b[0m\u001b[0;36m1\u001b[0m\u001b[0;34m,\u001b[0m\u001b[0;36m1\u001b[0m\u001b[0;34m,\u001b[0m\u001b[0;36m1\u001b[0m\u001b[0;34m,\u001b[0m\u001b[0;36m1\u001b[0m\u001b[0;34m]\u001b[0m\u001b[0;34m,\u001b[0m \u001b[0;34m[\u001b[0m\u001b[0;36m2\u001b[0m\u001b[0;34m,\u001b[0m\u001b[0;36m2\u001b[0m\u001b[0;34m,\u001b[0m\u001b[0;36m2\u001b[0m\u001b[0;34m,\u001b[0m\u001b[0;36m2\u001b[0m\u001b[0;34m]\u001b[0m\u001b[0;34m,\u001b[0m \u001b[0;34m[\u001b[0m\u001b[0;36m3\u001b[0m\u001b[0;34m,\u001b[0m\u001b[0;36m4\u001b[0m\u001b[0;34m,\u001b[0m\u001b[0;36m5\u001b[0m\u001b[0;34m,\u001b[0m\u001b[0;36m6\u001b[0m\u001b[0;34m]\u001b[0m\u001b[0;34m,\u001b[0m \u001b[0;34m[\u001b[0m\u001b[0;36m7\u001b[0m\u001b[0;34m,\u001b[0m\u001b[0;36m8\u001b[0m\u001b[0;34m,\u001b[0m\u001b[0;36m9\u001b[0m\u001b[0;34m,\u001b[0m\u001b[0;36m10\u001b[0m\u001b[0;34m]\u001b[0m\u001b[0;34m,\u001b[0m \u001b[0;34m[\u001b[0m\u001b[0;36m11\u001b[0m\u001b[0;34m,\u001b[0m\u001b[0;36m12\u001b[0m\u001b[0;34m,\u001b[0m\u001b[0;36m9\u001b[0m\u001b[0;34m,\u001b[0m\u001b[0;36m10\u001b[0m\u001b[0;34m]\u001b[0m\u001b[0;34m]\u001b[0m\u001b[0;34m)\u001b[0m\u001b[0;34m\u001b[0m\u001b[0m\n\u001b[1;32m      3\u001b[0m \u001b[0mmy_y\u001b[0m \u001b[0;34m=\u001b[0m \u001b[0mnp\u001b[0m\u001b[0;34m.\u001b[0m\u001b[0marray\u001b[0m\u001b[0;34m(\u001b[0m\u001b[0;34m[\u001b[0m\u001b[0;36m1\u001b[0m\u001b[0;34m,\u001b[0m\u001b[0;36m2\u001b[0m\u001b[0;34m,\u001b[0m\u001b[0;36m3\u001b[0m\u001b[0;34m,\u001b[0m\u001b[0;36m4\u001b[0m\u001b[0;34m,\u001b[0m\u001b[0;36m5\u001b[0m\u001b[0;34m]\u001b[0m\u001b[0;34m)\u001b[0m\u001b[0;34m\u001b[0m\u001b[0m\n\u001b[0;32m----> 4\u001b[0;31m \u001b[0mwrong_Data\u001b[0m \u001b[0;34m=\u001b[0m \u001b[0mMLEV\u001b[0m\u001b[0;34m(\u001b[0m\u001b[0mwrong_X\u001b[0m\u001b[0;34m,\u001b[0m \u001b[0mmy_y\u001b[0m\u001b[0;34m)\u001b[0m\u001b[0;34m\u001b[0m\u001b[0m\n\u001b[0m",
      "\u001b[0;32m<ipython-input-25-ed93861d3299>\u001b[0m in \u001b[0;36m__init__\u001b[0;34m(self, X, y)\u001b[0m\n\u001b[1;32m     31\u001b[0m                 \u001b[0;32mraise\u001b[0m \u001b[0mValueError\u001b[0m\u001b[0;34m(\u001b[0m\u001b[0;34m'Missing values are not allowed in design matrix (X)'\u001b[0m\u001b[0;34m)\u001b[0m\u001b[0;34m\u001b[0m\u001b[0m\n\u001b[1;32m     32\u001b[0m             \u001b[0;32melif\u001b[0m \u001b[0mnp\u001b[0m\u001b[0;34m.\u001b[0m\u001b[0mlinalg\u001b[0m\u001b[0;34m.\u001b[0m\u001b[0mmatrix_rank\u001b[0m\u001b[0;34m(\u001b[0m\u001b[0mself\u001b[0m\u001b[0;34m.\u001b[0m\u001b[0mX\u001b[0m\u001b[0;34m.\u001b[0m\u001b[0mT\u001b[0m\u001b[0;34m)\u001b[0m \u001b[0;34m<\u001b[0m \u001b[0mnp\u001b[0m\u001b[0;34m.\u001b[0m\u001b[0mmin\u001b[0m\u001b[0;34m(\u001b[0m\u001b[0mself\u001b[0m\u001b[0;34m.\u001b[0m\u001b[0mX\u001b[0m\u001b[0;34m.\u001b[0m\u001b[0mshape\u001b[0m\u001b[0;34m)\u001b[0m\u001b[0;34m:\u001b[0m\u001b[0;34m\u001b[0m\u001b[0m\n\u001b[0;32m---> 33\u001b[0;31m                 \u001b[0;32mraise\u001b[0m \u001b[0mValueError\u001b[0m\u001b[0;34m(\u001b[0m\u001b[0;34m'X_Transpose is rank deficient, remove linearly dependent rows from design matrix (X)'\u001b[0m\u001b[0;34m)\u001b[0m\u001b[0;34m\u001b[0m\u001b[0m\n\u001b[0m\u001b[1;32m     34\u001b[0m             \u001b[0;32melse\u001b[0m\u001b[0;34m:\u001b[0m\u001b[0;34m\u001b[0m\u001b[0m\n\u001b[1;32m     35\u001b[0m                 \u001b[0mself\u001b[0m\u001b[0;34m.\u001b[0m\u001b[0mn\u001b[0m \u001b[0;34m=\u001b[0m \u001b[0mfloat\u001b[0m\u001b[0;34m(\u001b[0m\u001b[0mself\u001b[0m\u001b[0;34m.\u001b[0m\u001b[0mX\u001b[0m\u001b[0;34m.\u001b[0m\u001b[0mshape\u001b[0m\u001b[0;34m[\u001b[0m\u001b[0;36m0\u001b[0m\u001b[0;34m]\u001b[0m\u001b[0;34m)\u001b[0m\u001b[0;34m\u001b[0m\u001b[0m\n",
      "\u001b[0;31mValueError\u001b[0m: X_Transpose is rank deficient, remove linearly dependent rows from design matrix (X)"
     ]
    }
   ],
   "source": [
    "# ValueError: X_Transpose is rank deficient, remove linearly dependent rows from design matrix (X)\n",
    "wrong_X = np.array([[1,1,1,1], [2,2,2,2], [3,4,5,6], [7,8,9,10], [11,12,9,10]])\n",
    "my_y = np.array([1,2,3,4,5])\n",
    "wrong_Data = MLEV(wrong_X, my_y)"
   ]
  }
 ],
 "metadata": {
  "anaconda-cloud": {},
  "kernelspec": {
   "display_name": "Python [conda env:my_projects_env]",
   "language": "python",
   "name": "conda-env-my_projects_env-py"
  },
  "language_info": {
   "codemirror_mode": {
    "name": "ipython",
    "version": 2
   },
   "file_extension": ".py",
   "mimetype": "text/x-python",
   "name": "python",
   "nbconvert_exporter": "python",
   "pygments_lexer": "ipython2",
   "version": "2.7.12"
  }
 },
 "nbformat": 4,
 "nbformat_minor": 1
}
