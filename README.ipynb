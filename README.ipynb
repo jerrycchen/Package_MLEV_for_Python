{
 "cells": [
  {
   "cell_type": "markdown",
   "metadata": {},
   "source": [
    "# The Python Package for Maximum Likelihood Estimates for Variance\n",
    "# (<span style=\"color:purple;\"> MLEV </span>)"
   ]
  },
  {
   "cell_type": "markdown",
   "metadata": {},
   "source": [
    "## Introduction\n",
    "### Goal\n",
    "Implement the most recently published variance estimator for _linear models_\n",
    "\n",
    "### What\n",
    "Variance of the random error term ($\\sigma^2$)\n",
    "$$ y = X \\beta + \\epsilon $$\n",
    "$ \\epsilon $ is from $ i.i.d.N(0,\\sigma^2) $\n",
    "\n",
    "### Why\n",
    "- Used in model comparison\n",
    "- Given the size of the model, pick the model with lowest variance estmiates, which explain the most of variance\n",
    "\n",
    "### How\n",
    "- Least square estimator\n",
    "  - works for low dimension data ($n>p$)\n",
    "  - does not exist in high dimension data ($n<p$)\n",
    "- Maximum Likelyhood Estimator\n",
    "  - works for both low and high dimensions\n",
    "  - more accurate compared to LS estimator in low dimensions"
   ]
  },
  {
   "cell_type": "markdown",
   "metadata": {},
   "source": [
    "\n",
    "## Implement of MLEV"
   ]
  },
  {
   "cell_type": "code",
   "execution_count": null,
   "metadata": {
    "collapsed": true
   },
   "outputs": [],
   "source": []
  },
  {
   "cell_type": "markdown",
   "metadata": {},
   "source": [
    "### Python code"
   ]
  },
  {
   "cell_type": "code",
   "execution_count": 2,
   "metadata": {
    "collapsed": true
   },
   "outputs": [],
   "source": [
    "# Load pre-requisite packages\n",
    "import numpy as np\n",
    "import scipy.optimize as optimx\n",
    "\n",
    "# Define functions within the MLEV class\n",
    "class MLEV:\n",
    "    \n",
    "    def __init__(self, data):\n",
    "        self.y = data['y']\n",
    "        self.X = data['X']\n",
    "        self.n = float(data['X'].shape[0])\n",
    "        self.p = float(data['X'].shape[1])\n",
    "        self.theta2_init = float(1)\n",
    "\n",
    "    def describe(self):\n",
    "        print('The dimension of design matrix is (' + str(self.n) + ', ' + str(self.p) + ')')\n",
    "        return(self)\n",
    "\n",
    "    def eigen(self):\n",
    "        self.XXt = np.dot(self.X, self.X.T)\n",
    "        self.lbd, self.vec = np.linalg.eigh(self.XXt)\n",
    "        self.yTilde = np.dot(self.vec.T, self.y)\n",
    "        self.yTildeSq = self.yTilde**2\n",
    "        return(self)\n",
    "\n",
    "    def mlevObj(self, theta2):\n",
    "        out1 = np.log(np.sum(self.yTildeSq/(theta2/self.p*self.lbd+1.0))) + 1.0/self.n*np.sum(np.log(theta2/self.p*self.lbd+1.0))\n",
    "        return(out1)\n",
    "\n",
    "    def getTheta2(self, theta2_init=5.0):\n",
    "        self.theta2_est = optimx.fmin_l_bfgs_b(func=self.mlevObj, x0=np.array([theta2_init]), bounds=[(0, None)], approx_grad=True)\n",
    "        self.theta2_hat = self.theta2_est[0]\n",
    "        return(self)\n",
    "\n",
    "    def getTheta1(self):\n",
    "        self.theta1_hat = (1.0/self.n) * np.sum(self.yTildeSq/(self.theta2_hat/self.p*self.lbd+1.0))\n",
    "        return(self.theta1_hat)\n",
    "\n",
    "    def getMLEV(self):\n",
    "        self.mlev_hat = self.eigen().getTheta2().getTheta1()\n",
    "        return(self.mlev_hat)"
   ]
  },
  {
   "cell_type": "code",
   "execution_count": null,
   "metadata": {
    "collapsed": true
   },
   "outputs": [],
   "source": []
  },
  {
   "cell_type": "markdown",
   "metadata": {},
   "source": [
    "## Unit Test\n",
    "1. Low dimensional scenario: number of observations = 100; number of features = 10\n",
    "2. Low dimensional scenario: number of observations = 10000; number of features = 1000\n",
    "3. High dimensional scenario: number of observations = 200; number of features = 1000"
   ]
  },
  {
   "cell_type": "code",
   "execution_count": 47,
   "metadata": {
    "collapsed": false
   },
   "outputs": [
    {
     "name": "stdout",
     "output_type": "stream",
     "text": [
      "9.6921439231\n",
      "10.0146641758\n",
      "10.6912475793\n"
     ]
    }
   ],
   "source": [
    "# Form dataset 1:\n",
    "import numpy as np\n",
    "beta1 = np.random.normal(loc=0, scale=(10/10)**0.5, size=10)\n",
    "X1 = np.random.rand(100, 10)\n",
    "error1 = np.random.normal(loc=0, scale=10**0.5, size=100)\n",
    "y1 = np.dot(X1, beta1) + error1\n",
    "dataset1 = {'y': y1, 'X': X1}\n",
    "\n",
    "# Form dataset 2:\n",
    "import numpy as np\n",
    "beta2 = np.random.normal(loc=0, scale=(10/1e3)**0.5, size=int(1e3))\n",
    "X2 = np.random.rand(int(1e4), int(1e3))\n",
    "error2 = np.random.normal(loc=0, scale=10**0.5, size=int(1e4))\n",
    "y2 = np.dot(X2, beta2) + error2\n",
    "dataset2 = {'y': y2, 'X': X2}\n",
    "\n",
    "# Form dataset 3:\n",
    "import numpy as np\n",
    "beta3 = np.random.normal(loc=0, scale=(10/1e3)**0.5, size=int(1e3))\n",
    "X3 = np.random.rand(200, 1000)\n",
    "error3 = np.random.normal(loc=0, scale=10**0.5, size=200)\n",
    "y3 = np.dot(X3, beta3) + error3\n",
    "dataset3 = {'y': y3, 'X': X3}\n",
    "\n",
    "# Show the true sample variance\n",
    "print(np.var(error1))\n",
    "print(np.var(error2))\n",
    "print(np.var(error3))"
   ]
  },
  {
   "cell_type": "code",
   "execution_count": 48,
   "metadata": {
    "collapsed": false
   },
   "outputs": [
    {
     "data": {
      "text/plain": [
       "9.8862540513587547"
      ]
     },
     "execution_count": 48,
     "metadata": {},
     "output_type": "execute_result"
    }
   ],
   "source": [
    "# Test Scenario 1\n",
    "test1 = MLEV(dataset1)\n",
    "test1.getMLEV()"
   ]
  },
  {
   "cell_type": "code",
   "execution_count": 49,
   "metadata": {
    "collapsed": false
   },
   "outputs": [
    {
     "data": {
      "text/plain": [
       "10.026761934514186"
      ]
     },
     "execution_count": 49,
     "metadata": {},
     "output_type": "execute_result"
    }
   ],
   "source": [
    "# Test Scenario 2\n",
    "test2 = MLEV(dataset2)\n",
    "test2.getMLEV()"
   ]
  },
  {
   "cell_type": "code",
   "execution_count": 50,
   "metadata": {
    "collapsed": false
   },
   "outputs": [
    {
     "data": {
      "text/plain": [
       "10.87882825161233"
      ]
     },
     "execution_count": 50,
     "metadata": {},
     "output_type": "execute_result"
    }
   ],
   "source": [
    "# Test Scenario 3\n",
    "test3 = MLEV(dataset3)\n",
    "test3.getMLEV()"
   ]
  },
  {
   "cell_type": "code",
   "execution_count": null,
   "metadata": {
    "collapsed": true
   },
   "outputs": [],
   "source": []
  },
  {
   "cell_type": "markdown",
   "metadata": {},
   "source": [
    "## Future Direction\n",
    "- Accept different input data types <br>\n",
    "  *e.g. matrix and pd.dataframe*\n",
    "- Manipulation <br>\n",
    "  *e.g. warning of repetitive observations*\n",
    "- Help function\n",
    "- *Statistical modeling"
   ]
  },
  {
   "cell_type": "code",
   "execution_count": null,
   "metadata": {
    "collapsed": true
   },
   "outputs": [],
   "source": []
  }
 ],
 "metadata": {
  "anaconda-cloud": {},
  "kernelspec": {
   "display_name": "Python [conda root]",
   "language": "python",
   "name": "conda-root-py"
  },
  "language_info": {
   "codemirror_mode": {
    "name": "ipython",
    "version": 2
   },
   "file_extension": ".py",
   "mimetype": "text/x-python",
   "name": "python",
   "nbconvert_exporter": "python",
   "pygments_lexer": "ipython2",
   "version": "2.7.12"
  }
 },
 "nbformat": 4,
 "nbformat_minor": 1
}
